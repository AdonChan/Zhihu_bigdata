{
 "cells": [
  {
   "cell_type": "code",
   "execution_count": 1,
   "metadata": {
    "collapsed": true
   },
   "outputs": [],
   "source": [
    "%matplotlib inline"
   ]
  },
  {
   "cell_type": "code",
   "execution_count": 24,
   "metadata": {
    "collapsed": true
   },
   "outputs": [],
   "source": [
    "import pandas as pd"
   ]
  },
  {
   "cell_type": "code",
   "execution_count": null,
   "metadata": {
    "collapsed": true
   },
   "outputs": [],
   "source": []
  },
  {
   "cell_type": "code",
   "execution_count": 3,
   "metadata": {
    "collapsed": true
   },
   "outputs": [],
   "source": [
    "import numpy as np"
   ]
  },
  {
   "cell_type": "code",
   "execution_count": 4,
   "metadata": {
    "collapsed": true
   },
   "outputs": [],
   "source": [
    "import json"
   ]
  },
  {
   "cell_type": "code",
   "execution_count": 19,
   "metadata": {
    "collapsed": false
   },
   "outputs": [],
   "source": [
    "db = json.load(open(r'C:\\Users\\Administrator\\Desktop\\zhihu_data\\user4.json'))"
   ]
  },
  {
   "cell_type": "code",
   "execution_count": 20,
   "metadata": {
    "collapsed": false
   },
   "outputs": [
    {
     "data": {
      "text/plain": [
       "43362"
      ]
     },
     "execution_count": 20,
     "metadata": {},
     "output_type": "execute_result"
    }
   ],
   "source": [
    "len(db)"
   ]
  },
  {
   "cell_type": "code",
   "execution_count": null,
   "metadata": {
    "collapsed": true
   },
   "outputs": [],
   "source": []
  },
  {
   "cell_type": "code",
   "execution_count": null,
   "metadata": {
    "collapsed": true
   },
   "outputs": [],
   "source": []
  },
  {
   "cell_type": "code",
   "execution_count": 7,
   "metadata": {
    "collapsed": false
   },
   "outputs": [
    {
     "data": {
      "text/plain": [
       "52353"
      ]
     },
     "execution_count": 7,
     "metadata": {},
     "output_type": "execute_result"
    }
   ],
   "source": [
    "len(db)"
   ]
  },
  {
   "cell_type": "code",
   "execution_count": 21,
   "metadata": {
    "collapsed": true
   },
   "outputs": [],
   "source": [
    "db_list = []"
   ]
  },
  {
   "cell_type": "code",
   "execution_count": null,
   "metadata": {
    "collapsed": true
   },
   "outputs": [],
   "source": []
  },
  {
   "cell_type": "code",
   "execution_count": 9,
   "metadata": {
    "collapsed": true
   },
   "outputs": [],
   "source": [
    "import os "
   ]
  },
  {
   "cell_type": "code",
   "execution_count": 22,
   "metadata": {
    "collapsed": false
   },
   "outputs": [],
   "source": [
    "for i in range(1,5):\n",
    "    file_name = \"user%s.json\" %i\n",
    "    db_list.extend(json.load(open(os.path.join('C:\\Users\\Administrator\\Desktop\\zhihu_data',file_name))))"
   ]
  },
  {
   "cell_type": "code",
   "execution_count": 23,
   "metadata": {
    "collapsed": false
   },
   "outputs": [
    {
     "data": {
      "text/plain": [
       "206007"
      ]
     },
     "execution_count": 23,
     "metadata": {},
     "output_type": "execute_result"
    }
   ],
   "source": [
    "len(db_list)"
   ]
  },
  {
   "cell_type": "code",
   "execution_count": 25,
   "metadata": {
    "collapsed": true
   },
   "outputs": [],
   "source": [
    "df = pd.DataFrame(db_list)"
   ]
  },
  {
   "cell_type": "code",
   "execution_count": 26,
   "metadata": {
    "collapsed": false
   },
   "outputs": [
    {
     "name": "stdout",
     "output_type": "stream",
     "text": [
      "<class 'pandas.core.frame.DataFrame'>\n",
      "Int64Index: 206007 entries, 0 to 206006\n",
      "Data columns (total 5 columns):\n",
      "aggree_count       206007 non-null object\n",
      "most_good_topic    206007 non-null object\n",
      "name               206007 non-null object\n",
      "thanks_count       206007 non-null object\n",
      "url                206007 non-null object\n",
      "dtypes: object(5)\n",
      "memory usage: 9.4+ MB\n"
     ]
    }
   ],
   "source": [
    "df.info()"
   ]
  },
  {
   "cell_type": "code",
   "execution_count": 27,
   "metadata": {
    "collapsed": false
   },
   "outputs": [
    {
     "ename": "TypeError",
     "evalue": "unhashable type: 'list'",
     "output_type": "error",
     "traceback": [
      "\u001b[1;31m---------------------------------------------------------------------------\u001b[0m",
      "\u001b[1;31mTypeError\u001b[0m                                 Traceback (most recent call last)",
      "\u001b[1;32m<ipython-input-27-daf275b6788b>\u001b[0m in \u001b[0;36m<module>\u001b[1;34m()\u001b[0m\n\u001b[1;32m----> 1\u001b[1;33m \u001b[0mdf\u001b[0m\u001b[1;33m.\u001b[0m\u001b[0mdrop_duplicates\u001b[0m\u001b[1;33m(\u001b[0m\u001b[1;33m)\u001b[0m\u001b[1;33m\u001b[0m\u001b[0m\n\u001b[0m",
      "\u001b[1;32mD:\\anaconda2.7\\lib\\site-packages\\pandas\\util\\decorators.pyc\u001b[0m in \u001b[0;36mwrapper\u001b[1;34m(*args, **kwargs)\u001b[0m\n\u001b[0;32m     86\u001b[0m                 \u001b[1;32melse\u001b[0m\u001b[1;33m:\u001b[0m\u001b[1;33m\u001b[0m\u001b[0m\n\u001b[0;32m     87\u001b[0m                     \u001b[0mkwargs\u001b[0m\u001b[1;33m[\u001b[0m\u001b[0mnew_arg_name\u001b[0m\u001b[1;33m]\u001b[0m \u001b[1;33m=\u001b[0m \u001b[0mnew_arg_value\u001b[0m\u001b[1;33m\u001b[0m\u001b[0m\n\u001b[1;32m---> 88\u001b[1;33m             \u001b[1;32mreturn\u001b[0m \u001b[0mfunc\u001b[0m\u001b[1;33m(\u001b[0m\u001b[1;33m*\u001b[0m\u001b[0margs\u001b[0m\u001b[1;33m,\u001b[0m \u001b[1;33m**\u001b[0m\u001b[0mkwargs\u001b[0m\u001b[1;33m)\u001b[0m\u001b[1;33m\u001b[0m\u001b[0m\n\u001b[0m\u001b[0;32m     89\u001b[0m         \u001b[1;32mreturn\u001b[0m \u001b[0mwrapper\u001b[0m\u001b[1;33m\u001b[0m\u001b[0m\n\u001b[0;32m     90\u001b[0m     \u001b[1;32mreturn\u001b[0m \u001b[0m_deprecate_kwarg\u001b[0m\u001b[1;33m\u001b[0m\u001b[0m\n",
      "\u001b[1;32mD:\\anaconda2.7\\lib\\site-packages\\pandas\\core\\frame.pyc\u001b[0m in \u001b[0;36mdrop_duplicates\u001b[1;34m(self, subset, take_last, inplace)\u001b[0m\n\u001b[0;32m   2826\u001b[0m         \u001b[0mdeduplicated\u001b[0m \u001b[1;33m:\u001b[0m \u001b[0mDataFrame\u001b[0m\u001b[1;33m\u001b[0m\u001b[0m\n\u001b[0;32m   2827\u001b[0m         \"\"\"\n\u001b[1;32m-> 2828\u001b[1;33m         \u001b[0mduplicated\u001b[0m \u001b[1;33m=\u001b[0m \u001b[0mself\u001b[0m\u001b[1;33m.\u001b[0m\u001b[0mduplicated\u001b[0m\u001b[1;33m(\u001b[0m\u001b[0msubset\u001b[0m\u001b[1;33m,\u001b[0m \u001b[0mtake_last\u001b[0m\u001b[1;33m=\u001b[0m\u001b[0mtake_last\u001b[0m\u001b[1;33m)\u001b[0m\u001b[1;33m\u001b[0m\u001b[0m\n\u001b[0m\u001b[0;32m   2829\u001b[0m \u001b[1;33m\u001b[0m\u001b[0m\n\u001b[0;32m   2830\u001b[0m         \u001b[1;32mif\u001b[0m \u001b[0minplace\u001b[0m\u001b[1;33m:\u001b[0m\u001b[1;33m\u001b[0m\u001b[0m\n",
      "\u001b[1;32mD:\\anaconda2.7\\lib\\site-packages\\pandas\\util\\decorators.pyc\u001b[0m in \u001b[0;36mwrapper\u001b[1;34m(*args, **kwargs)\u001b[0m\n\u001b[0;32m     86\u001b[0m                 \u001b[1;32melse\u001b[0m\u001b[1;33m:\u001b[0m\u001b[1;33m\u001b[0m\u001b[0m\n\u001b[0;32m     87\u001b[0m                     \u001b[0mkwargs\u001b[0m\u001b[1;33m[\u001b[0m\u001b[0mnew_arg_name\u001b[0m\u001b[1;33m]\u001b[0m \u001b[1;33m=\u001b[0m \u001b[0mnew_arg_value\u001b[0m\u001b[1;33m\u001b[0m\u001b[0m\n\u001b[1;32m---> 88\u001b[1;33m             \u001b[1;32mreturn\u001b[0m \u001b[0mfunc\u001b[0m\u001b[1;33m(\u001b[0m\u001b[1;33m*\u001b[0m\u001b[0margs\u001b[0m\u001b[1;33m,\u001b[0m \u001b[1;33m**\u001b[0m\u001b[0mkwargs\u001b[0m\u001b[1;33m)\u001b[0m\u001b[1;33m\u001b[0m\u001b[0m\n\u001b[0m\u001b[0;32m     89\u001b[0m         \u001b[1;32mreturn\u001b[0m \u001b[0mwrapper\u001b[0m\u001b[1;33m\u001b[0m\u001b[0m\n\u001b[0;32m     90\u001b[0m     \u001b[1;32mreturn\u001b[0m \u001b[0m_deprecate_kwarg\u001b[0m\u001b[1;33m\u001b[0m\u001b[0m\n",
      "\u001b[1;32mD:\\anaconda2.7\\lib\\site-packages\\pandas\\core\\frame.pyc\u001b[0m in \u001b[0;36mduplicated\u001b[1;34m(self, subset, take_last)\u001b[0m\n\u001b[0;32m   2871\u001b[0m \u001b[1;33m\u001b[0m\u001b[0m\n\u001b[0;32m   2872\u001b[0m         \u001b[0mvals\u001b[0m \u001b[1;33m=\u001b[0m \u001b[1;33m(\u001b[0m\u001b[0mself\u001b[0m\u001b[1;33m[\u001b[0m\u001b[0mcol\u001b[0m\u001b[1;33m]\u001b[0m\u001b[1;33m.\u001b[0m\u001b[0mvalues\u001b[0m \u001b[1;32mfor\u001b[0m \u001b[0mcol\u001b[0m \u001b[1;32min\u001b[0m \u001b[0msubset\u001b[0m\u001b[1;33m)\u001b[0m\u001b[1;33m\u001b[0m\u001b[0m\n\u001b[1;32m-> 2873\u001b[1;33m         \u001b[0mlabels\u001b[0m\u001b[1;33m,\u001b[0m \u001b[0mshape\u001b[0m \u001b[1;33m=\u001b[0m \u001b[0mmap\u001b[0m\u001b[1;33m(\u001b[0m\u001b[0mlist\u001b[0m\u001b[1;33m,\u001b[0m \u001b[0mzip\u001b[0m\u001b[1;33m(\u001b[0m \u001b[1;33m*\u001b[0m \u001b[0mmap\u001b[0m\u001b[1;33m(\u001b[0m\u001b[0mf\u001b[0m\u001b[1;33m,\u001b[0m \u001b[0mvals\u001b[0m\u001b[1;33m)\u001b[0m\u001b[1;33m)\u001b[0m\u001b[1;33m)\u001b[0m\u001b[1;33m\u001b[0m\u001b[0m\n\u001b[0m\u001b[0;32m   2874\u001b[0m \u001b[1;33m\u001b[0m\u001b[0m\n\u001b[0;32m   2875\u001b[0m         \u001b[0mids\u001b[0m \u001b[1;33m=\u001b[0m \u001b[0mget_group_index\u001b[0m\u001b[1;33m(\u001b[0m\u001b[0mlabels\u001b[0m\u001b[1;33m,\u001b[0m \u001b[0mshape\u001b[0m\u001b[1;33m,\u001b[0m \u001b[0msort\u001b[0m\u001b[1;33m=\u001b[0m\u001b[0mFalse\u001b[0m\u001b[1;33m,\u001b[0m \u001b[0mxnull\u001b[0m\u001b[1;33m=\u001b[0m\u001b[0mFalse\u001b[0m\u001b[1;33m)\u001b[0m\u001b[1;33m\u001b[0m\u001b[0m\n",
      "\u001b[1;32mD:\\anaconda2.7\\lib\\site-packages\\pandas\\core\\frame.pyc\u001b[0m in \u001b[0;36mf\u001b[1;34m(vals)\u001b[0m\n\u001b[0;32m   2860\u001b[0m \u001b[1;33m\u001b[0m\u001b[0m\n\u001b[0;32m   2861\u001b[0m         \u001b[1;32mdef\u001b[0m \u001b[0mf\u001b[0m\u001b[1;33m(\u001b[0m\u001b[0mvals\u001b[0m\u001b[1;33m)\u001b[0m\u001b[1;33m:\u001b[0m\u001b[1;33m\u001b[0m\u001b[0m\n\u001b[1;32m-> 2862\u001b[1;33m             \u001b[0mlabels\u001b[0m\u001b[1;33m,\u001b[0m \u001b[0mshape\u001b[0m \u001b[1;33m=\u001b[0m \u001b[0mfactorize\u001b[0m\u001b[1;33m(\u001b[0m\u001b[0mvals\u001b[0m\u001b[1;33m,\u001b[0m \u001b[0msize_hint\u001b[0m\u001b[1;33m=\u001b[0m\u001b[0mmin\u001b[0m\u001b[1;33m(\u001b[0m\u001b[0mlen\u001b[0m\u001b[1;33m(\u001b[0m\u001b[0mself\u001b[0m\u001b[1;33m)\u001b[0m\u001b[1;33m,\u001b[0m \u001b[0m_SIZE_HINT_LIMIT\u001b[0m\u001b[1;33m)\u001b[0m\u001b[1;33m)\u001b[0m\u001b[1;33m\u001b[0m\u001b[0m\n\u001b[0m\u001b[0;32m   2863\u001b[0m             \u001b[1;32mreturn\u001b[0m \u001b[0mlabels\u001b[0m\u001b[1;33m.\u001b[0m\u001b[0mastype\u001b[0m\u001b[1;33m(\u001b[0m\u001b[1;34m'i8'\u001b[0m\u001b[1;33m,\u001b[0m\u001b[0mcopy\u001b[0m\u001b[1;33m=\u001b[0m\u001b[0mFalse\u001b[0m\u001b[1;33m)\u001b[0m\u001b[1;33m,\u001b[0m \u001b[0mlen\u001b[0m\u001b[1;33m(\u001b[0m\u001b[0mshape\u001b[0m\u001b[1;33m)\u001b[0m\u001b[1;33m\u001b[0m\u001b[0m\n\u001b[0;32m   2864\u001b[0m \u001b[1;33m\u001b[0m\u001b[0m\n",
      "\u001b[1;32mD:\\anaconda2.7\\lib\\site-packages\\pandas\\core\\algorithms.pyc\u001b[0m in \u001b[0;36mfactorize\u001b[1;34m(values, sort, order, na_sentinel, size_hint)\u001b[0m\n\u001b[0;32m    133\u001b[0m     \u001b[0mtable\u001b[0m \u001b[1;33m=\u001b[0m \u001b[0mhash_klass\u001b[0m\u001b[1;33m(\u001b[0m\u001b[0msize_hint\u001b[0m \u001b[1;32mor\u001b[0m \u001b[0mlen\u001b[0m\u001b[1;33m(\u001b[0m\u001b[0mvals\u001b[0m\u001b[1;33m)\u001b[0m\u001b[1;33m)\u001b[0m\u001b[1;33m\u001b[0m\u001b[0m\n\u001b[0;32m    134\u001b[0m     \u001b[0muniques\u001b[0m \u001b[1;33m=\u001b[0m \u001b[0mvec_klass\u001b[0m\u001b[1;33m(\u001b[0m\u001b[1;33m)\u001b[0m\u001b[1;33m\u001b[0m\u001b[0m\n\u001b[1;32m--> 135\u001b[1;33m     \u001b[0mlabels\u001b[0m \u001b[1;33m=\u001b[0m \u001b[0mtable\u001b[0m\u001b[1;33m.\u001b[0m\u001b[0mget_labels\u001b[0m\u001b[1;33m(\u001b[0m\u001b[0mvals\u001b[0m\u001b[1;33m,\u001b[0m \u001b[0muniques\u001b[0m\u001b[1;33m,\u001b[0m \u001b[1;36m0\u001b[0m\u001b[1;33m,\u001b[0m \u001b[0mna_sentinel\u001b[0m\u001b[1;33m)\u001b[0m\u001b[1;33m\u001b[0m\u001b[0m\n\u001b[0m\u001b[0;32m    136\u001b[0m \u001b[1;33m\u001b[0m\u001b[0m\n\u001b[0;32m    137\u001b[0m     \u001b[0mlabels\u001b[0m \u001b[1;33m=\u001b[0m \u001b[0mcom\u001b[0m\u001b[1;33m.\u001b[0m\u001b[0m_ensure_platform_int\u001b[0m\u001b[1;33m(\u001b[0m\u001b[0mlabels\u001b[0m\u001b[1;33m)\u001b[0m\u001b[1;33m\u001b[0m\u001b[0m\n",
      "\u001b[1;32mpandas\\hashtable.pyx\u001b[0m in \u001b[0;36mpandas.hashtable.PyObjectHashTable.get_labels (pandas\\hashtable.c:14073)\u001b[1;34m()\u001b[0m\n",
      "\u001b[1;31mTypeError\u001b[0m: unhashable type: 'list'"
     ]
    }
   ],
   "source": [
    "df.drop_duplicates()"
   ]
  },
  {
   "cell_type": "code",
   "execution_count": 29,
   "metadata": {
    "collapsed": false
   },
   "outputs": [
    {
     "data": {
      "text/plain": [
       "165877"
      ]
     },
     "execution_count": 29,
     "metadata": {},
     "output_type": "execute_result"
    }
   ],
   "source": [
    "len(df.url.unique())"
   ]
  },
  {
   "cell_type": "code",
   "execution_count": 30,
   "metadata": {
    "collapsed": true
   },
   "outputs": [],
   "source": [
    "df.drop_duplicates?"
   ]
  },
  {
   "cell_type": "code",
   "execution_count": 31,
   "metadata": {
    "collapsed": true
   },
   "outputs": [],
   "source": [
    "df1 = df.drop_duplicates('url')"
   ]
  },
  {
   "cell_type": "code",
   "execution_count": 32,
   "metadata": {
    "collapsed": false
   },
   "outputs": [
    {
     "data": {
      "text/plain": [
       "165877"
      ]
     },
     "execution_count": 32,
     "metadata": {},
     "output_type": "execute_result"
    }
   ],
   "source": [
    "len(df1)"
   ]
  },
  {
   "cell_type": "code",
   "execution_count": 35,
   "metadata": {
    "collapsed": false
   },
   "outputs": [
    {
     "data": {
      "text/plain": [
       "Index([u'aggree_count', u'most_good_topic', u'name', u'thanks_count', u'url'], dtype='object')"
      ]
     },
     "execution_count": 35,
     "metadata": {},
     "output_type": "execute_result"
    }
   ],
   "source": [
    "df1.columns"
   ]
  },
  {
   "cell_type": "code",
   "execution_count": 42,
   "metadata": {
    "collapsed": false
   },
   "outputs": [
    {
     "ename": "TypeError",
     "evalue": "unhashable type: 'list'",
     "output_type": "error",
     "traceback": [
      "\u001b[1;31m---------------------------------------------------------------------------\u001b[0m",
      "\u001b[1;31mTypeError\u001b[0m                                 Traceback (most recent call last)",
      "\u001b[1;32m<ipython-input-42-d425104a2334>\u001b[0m in \u001b[0;36m<module>\u001b[1;34m()\u001b[0m\n\u001b[1;32m----> 1\u001b[1;33m \u001b[0mdf1\u001b[0m\u001b[1;33m.\u001b[0m\u001b[0msort_index\u001b[0m\u001b[1;33m(\u001b[0m\u001b[0mby\u001b[0m\u001b[1;33m=\u001b[0m\u001b[1;33m[\u001b[0m\u001b[1;34m'aggree_count'\u001b[0m\u001b[1;33m,\u001b[0m\u001b[1;34m'thanks_count'\u001b[0m\u001b[1;33m]\u001b[0m\u001b[1;33m,\u001b[0m\u001b[0mascending\u001b[0m\u001b[1;33m=\u001b[0m\u001b[1;33m[\u001b[0m\u001b[0mFalse\u001b[0m\u001b[1;33m,\u001b[0m\u001b[0mFalse\u001b[0m\u001b[1;33m]\u001b[0m\u001b[1;33m)\u001b[0m\u001b[1;33m\u001b[0m\u001b[0m\n\u001b[0m",
      "\u001b[1;32mD:\\anaconda2.7\\lib\\site-packages\\pandas\\core\\frame.pyc\u001b[0m in \u001b[0;36msort_index\u001b[1;34m(self, axis, by, ascending, inplace, kind, na_position)\u001b[0m\n\u001b[0;32m   2977\u001b[0m                     \u001b[0mkeys\u001b[0m\u001b[1;33m.\u001b[0m\u001b[0mappend\u001b[0m\u001b[1;33m(\u001b[0m\u001b[0mtrans\u001b[0m\u001b[1;33m(\u001b[0m\u001b[0mk\u001b[0m\u001b[1;33m)\u001b[0m\u001b[1;33m)\u001b[0m\u001b[1;33m\u001b[0m\u001b[0m\n\u001b[0;32m   2978\u001b[0m                 indexer = _lexsort_indexer(keys, orders=ascending,\n\u001b[1;32m-> 2979\u001b[1;33m                                            na_position=na_position)\n\u001b[0m\u001b[0;32m   2980\u001b[0m                 \u001b[0mindexer\u001b[0m \u001b[1;33m=\u001b[0m \u001b[0mcom\u001b[0m\u001b[1;33m.\u001b[0m\u001b[0m_ensure_platform_int\u001b[0m\u001b[1;33m(\u001b[0m\u001b[0mindexer\u001b[0m\u001b[1;33m)\u001b[0m\u001b[1;33m\u001b[0m\u001b[0m\n\u001b[0;32m   2981\u001b[0m             \u001b[1;32melse\u001b[0m\u001b[1;33m:\u001b[0m\u001b[1;33m\u001b[0m\u001b[0m\n",
      "\u001b[1;32mD:\\anaconda2.7\\lib\\site-packages\\pandas\\core\\groupby.pyc\u001b[0m in \u001b[0;36m_lexsort_indexer\u001b[1;34m(keys, orders, na_position)\u001b[0m\n\u001b[0;32m   3667\u001b[0m         \u001b[1;31m# create the Categorical\u001b[0m\u001b[1;33m\u001b[0m\u001b[1;33m\u001b[0m\u001b[0m\n\u001b[0;32m   3668\u001b[0m         \u001b[1;32melse\u001b[0m\u001b[1;33m:\u001b[0m\u001b[1;33m\u001b[0m\u001b[0m\n\u001b[1;32m-> 3669\u001b[1;33m             \u001b[0mc\u001b[0m \u001b[1;33m=\u001b[0m \u001b[0mCategorical\u001b[0m\u001b[1;33m(\u001b[0m\u001b[0mkey\u001b[0m\u001b[1;33m,\u001b[0m\u001b[0mordered\u001b[0m\u001b[1;33m=\u001b[0m\u001b[0mTrue\u001b[0m\u001b[1;33m)\u001b[0m\u001b[1;33m\u001b[0m\u001b[0m\n\u001b[0m\u001b[0;32m   3670\u001b[0m \u001b[1;33m\u001b[0m\u001b[0m\n\u001b[0;32m   3671\u001b[0m         \u001b[1;32mif\u001b[0m \u001b[0mna_position\u001b[0m \u001b[1;32mnot\u001b[0m \u001b[1;32min\u001b[0m \u001b[1;33m[\u001b[0m\u001b[1;34m'last'\u001b[0m\u001b[1;33m,\u001b[0m\u001b[1;34m'first'\u001b[0m\u001b[1;33m]\u001b[0m\u001b[1;33m:\u001b[0m\u001b[1;33m\u001b[0m\u001b[0m\n",
      "\u001b[1;32mD:\\anaconda2.7\\lib\\site-packages\\pandas\\core\\categorical.pyc\u001b[0m in \u001b[0;36m__init__\u001b[1;34m(self, values, categories, ordered, name, fastpath, levels)\u001b[0m\n\u001b[0;32m    269\u001b[0m                 \u001b[0mcodes\u001b[0m\u001b[1;33m,\u001b[0m \u001b[0mcategories\u001b[0m \u001b[1;33m=\u001b[0m \u001b[0mfactorize\u001b[0m\u001b[1;33m(\u001b[0m\u001b[0mvalues\u001b[0m\u001b[1;33m,\u001b[0m \u001b[0msort\u001b[0m\u001b[1;33m=\u001b[0m\u001b[0mTrue\u001b[0m\u001b[1;33m)\u001b[0m\u001b[1;33m\u001b[0m\u001b[0m\n\u001b[0;32m    270\u001b[0m             \u001b[1;32mexcept\u001b[0m \u001b[0mTypeError\u001b[0m\u001b[1;33m:\u001b[0m\u001b[1;33m\u001b[0m\u001b[0m\n\u001b[1;32m--> 271\u001b[1;33m                 \u001b[0mcodes\u001b[0m\u001b[1;33m,\u001b[0m \u001b[0mcategories\u001b[0m \u001b[1;33m=\u001b[0m \u001b[0mfactorize\u001b[0m\u001b[1;33m(\u001b[0m\u001b[0mvalues\u001b[0m\u001b[1;33m,\u001b[0m \u001b[0msort\u001b[0m\u001b[1;33m=\u001b[0m\u001b[0mFalse\u001b[0m\u001b[1;33m)\u001b[0m\u001b[1;33m\u001b[0m\u001b[0m\n\u001b[0m\u001b[0;32m    272\u001b[0m                 \u001b[1;32mif\u001b[0m \u001b[0mordered\u001b[0m\u001b[1;33m:\u001b[0m\u001b[1;33m\u001b[0m\u001b[0m\n\u001b[0;32m    273\u001b[0m                     \u001b[1;31m# raise, as we don't have a sortable data structure and so the user should\u001b[0m\u001b[1;33m\u001b[0m\u001b[1;33m\u001b[0m\u001b[0m\n",
      "\u001b[1;32mD:\\anaconda2.7\\lib\\site-packages\\pandas\\core\\algorithms.pyc\u001b[0m in \u001b[0;36mfactorize\u001b[1;34m(values, sort, order, na_sentinel, size_hint)\u001b[0m\n\u001b[0;32m    133\u001b[0m     \u001b[0mtable\u001b[0m \u001b[1;33m=\u001b[0m \u001b[0mhash_klass\u001b[0m\u001b[1;33m(\u001b[0m\u001b[0msize_hint\u001b[0m \u001b[1;32mor\u001b[0m \u001b[0mlen\u001b[0m\u001b[1;33m(\u001b[0m\u001b[0mvals\u001b[0m\u001b[1;33m)\u001b[0m\u001b[1;33m)\u001b[0m\u001b[1;33m\u001b[0m\u001b[0m\n\u001b[0;32m    134\u001b[0m     \u001b[0muniques\u001b[0m \u001b[1;33m=\u001b[0m \u001b[0mvec_klass\u001b[0m\u001b[1;33m(\u001b[0m\u001b[1;33m)\u001b[0m\u001b[1;33m\u001b[0m\u001b[0m\n\u001b[1;32m--> 135\u001b[1;33m     \u001b[0mlabels\u001b[0m \u001b[1;33m=\u001b[0m \u001b[0mtable\u001b[0m\u001b[1;33m.\u001b[0m\u001b[0mget_labels\u001b[0m\u001b[1;33m(\u001b[0m\u001b[0mvals\u001b[0m\u001b[1;33m,\u001b[0m \u001b[0muniques\u001b[0m\u001b[1;33m,\u001b[0m \u001b[1;36m0\u001b[0m\u001b[1;33m,\u001b[0m \u001b[0mna_sentinel\u001b[0m\u001b[1;33m)\u001b[0m\u001b[1;33m\u001b[0m\u001b[0m\n\u001b[0m\u001b[0;32m    136\u001b[0m \u001b[1;33m\u001b[0m\u001b[0m\n\u001b[0;32m    137\u001b[0m     \u001b[0mlabels\u001b[0m \u001b[1;33m=\u001b[0m \u001b[0mcom\u001b[0m\u001b[1;33m.\u001b[0m\u001b[0m_ensure_platform_int\u001b[0m\u001b[1;33m(\u001b[0m\u001b[0mlabels\u001b[0m\u001b[1;33m)\u001b[0m\u001b[1;33m\u001b[0m\u001b[0m\n",
      "\u001b[1;32mpandas\\hashtable.pyx\u001b[0m in \u001b[0;36mpandas.hashtable.PyObjectHashTable.get_labels (pandas\\hashtable.c:14073)\u001b[1;34m()\u001b[0m\n",
      "\u001b[1;31mTypeError\u001b[0m: unhashable type: 'list'"
     ]
    }
   ],
   "source": [
    "df1.sort_index(by=['aggree_count','thanks_count'],ascending=[False,False])"
   ]
  },
  {
   "cell_type": "code",
   "execution_count": 43,
   "metadata": {
    "collapsed": false
   },
   "outputs": [
    {
     "data": {
      "text/html": [
       "<div>\n",
       "<table border=\"1\" class=\"dataframe\">\n",
       "  <thead>\n",
       "    <tr style=\"text-align: right;\">\n",
       "      <th></th>\n",
       "      <th>aggree_count</th>\n",
       "      <th>most_good_topic</th>\n",
       "      <th>name</th>\n",
       "      <th>thanks_count</th>\n",
       "      <th>url</th>\n",
       "    </tr>\n",
       "  </thead>\n",
       "  <tbody>\n",
       "    <tr>\n",
       "      <th>0</th>\n",
       "      <td>[136034]</td>\n",
       "      <td>[媒体 ]</td>\n",
       "      <td>[张亮]</td>\n",
       "      <td>[28346]</td>\n",
       "      <td>http://www.zhihu.com/people/imike</td>\n",
       "    </tr>\n",
       "    <tr>\n",
       "      <th>1</th>\n",
       "      <td>[23318]</td>\n",
       "      <td>[首次公开募股（IPO） ]</td>\n",
       "      <td>[Luo Patrick]</td>\n",
       "      <td>[8057]</td>\n",
       "      <td>http://www.zhihu.com/people/patrickluo</td>\n",
       "    </tr>\n",
       "    <tr>\n",
       "      <th>2</th>\n",
       "      <td>[4151]</td>\n",
       "      <td>[商业 ]</td>\n",
       "      <td>[少少]</td>\n",
       "      <td>[1938]</td>\n",
       "      <td>http://www.zhihu.com/people/zliybst</td>\n",
       "    </tr>\n",
       "    <tr>\n",
       "      <th>3</th>\n",
       "      <td>[15476]</td>\n",
       "      <td>[]</td>\n",
       "      <td>[道哥]</td>\n",
       "      <td>[735]</td>\n",
       "      <td>http://www.zhihu.com/people/aullik5</td>\n",
       "    </tr>\n",
       "    <tr>\n",
       "      <th>4</th>\n",
       "      <td>[6295]</td>\n",
       "      <td>[经济学 ]</td>\n",
       "      <td>[冯晗]</td>\n",
       "      <td>[2008]</td>\n",
       "      <td>http://www.zhihu.com/people/feng-han</td>\n",
       "    </tr>\n",
       "    <tr>\n",
       "      <th>5</th>\n",
       "      <td>[233602]</td>\n",
       "      <td>[社会 ]</td>\n",
       "      <td>[李松蔚]</td>\n",
       "      <td>[43549]</td>\n",
       "      <td>http://www.zhihu.com/people/lisongwei</td>\n",
       "    </tr>\n",
       "    <tr>\n",
       "      <th>6</th>\n",
       "      <td>[1265657]</td>\n",
       "      <td>[]</td>\n",
       "      <td>[张佳玮]</td>\n",
       "      <td>[237486]</td>\n",
       "      <td>http://www.zhihu.com/people/zhang-jia-wei</td>\n",
       "    </tr>\n",
       "    <tr>\n",
       "      <th>7</th>\n",
       "      <td>[19698]</td>\n",
       "      <td>[中国 ]</td>\n",
       "      <td>[sky]</td>\n",
       "      <td>[6795]</td>\n",
       "      <td>http://www.zhihu.com/people/sky-86-5</td>\n",
       "    </tr>\n",
       "    <tr>\n",
       "      <th>8</th>\n",
       "      <td>[12181]</td>\n",
       "      <td>[金融工程 ]</td>\n",
       "      <td>[袁浩瀚]</td>\n",
       "      <td>[3507]</td>\n",
       "      <td>http://www.zhihu.com/people/id47</td>\n",
       "    </tr>\n",
       "    <tr>\n",
       "      <th>9</th>\n",
       "      <td>[5707]</td>\n",
       "      <td>[]</td>\n",
       "      <td>[张若鸿]</td>\n",
       "      <td>[745]</td>\n",
       "      <td>http://www.zhihu.com/people/zhang-ruo-hong</td>\n",
       "    </tr>\n",
       "  </tbody>\n",
       "</table>\n",
       "</div>"
      ],
      "text/plain": [
       "  aggree_count most_good_topic           name thanks_count  \\\n",
       "0     [136034]           [媒体 ]           [张亮]      [28346]   \n",
       "1      [23318]  [首次公开募股（IPO） ]  [Luo Patrick]       [8057]   \n",
       "2       [4151]           [商业 ]           [少少]       [1938]   \n",
       "3      [15476]              []           [道哥]        [735]   \n",
       "4       [6295]          [经济学 ]           [冯晗]       [2008]   \n",
       "5     [233602]           [社会 ]          [李松蔚]      [43549]   \n",
       "6    [1265657]              []          [张佳玮]     [237486]   \n",
       "7      [19698]           [中国 ]          [sky]       [6795]   \n",
       "8      [12181]         [金融工程 ]          [袁浩瀚]       [3507]   \n",
       "9       [5707]              []          [张若鸿]        [745]   \n",
       "\n",
       "                                          url  \n",
       "0           http://www.zhihu.com/people/imike  \n",
       "1      http://www.zhihu.com/people/patrickluo  \n",
       "2         http://www.zhihu.com/people/zliybst  \n",
       "3         http://www.zhihu.com/people/aullik5  \n",
       "4        http://www.zhihu.com/people/feng-han  \n",
       "5       http://www.zhihu.com/people/lisongwei  \n",
       "6   http://www.zhihu.com/people/zhang-jia-wei  \n",
       "7        http://www.zhihu.com/people/sky-86-5  \n",
       "8            http://www.zhihu.com/people/id47  \n",
       "9  http://www.zhihu.com/people/zhang-ruo-hong  "
      ]
     },
     "execution_count": 43,
     "metadata": {},
     "output_type": "execute_result"
    }
   ],
   "source": [
    "df1[:10]"
   ]
  },
  {
   "cell_type": "code",
   "execution_count": 44,
   "metadata": {
    "collapsed": true
   },
   "outputs": [],
   "source": [
    "def get_int(obj):\n",
    "    obj = ''.join(obj)\n",
    "    obj = obj.encode('utf-8')\n",
    "    return int(obj) if obj else 0"
   ]
  },
  {
   "cell_type": "code",
   "execution_count": 52,
   "metadata": {
    "collapsed": false
   },
   "outputs": [],
   "source": [
    "df1.thanks_count = df1.thanks_count.map(get_int)"
   ]
  },
  {
   "cell_type": "code",
   "execution_count": null,
   "metadata": {
    "collapsed": true
   },
   "outputs": [],
   "source": []
  },
  {
   "cell_type": "code",
   "execution_count": null,
   "metadata": {
    "collapsed": true
   },
   "outputs": [],
   "source": []
  },
  {
   "cell_type": "code",
   "execution_count": null,
   "metadata": {
    "collapsed": true
   },
   "outputs": [],
   "source": [
    "df"
   ]
  },
  {
   "cell_type": "code",
   "execution_count": 46,
   "metadata": {
    "collapsed": false
   },
   "outputs": [
    {
     "data": {
      "text/plain": [
       "0     136034\n",
       "1      23318\n",
       "2       4151\n",
       "3      15476\n",
       "4       6295\n",
       "5     233602\n",
       "6    1265657\n",
       "7      19698\n",
       "8      12181\n",
       "9       5707\n",
       "Name: aggree_count, dtype: int64"
      ]
     },
     "execution_count": 46,
     "metadata": {},
     "output_type": "execute_result"
    }
   ],
   "source": [
    "agree[:10]"
   ]
  },
  {
   "cell_type": "code",
   "execution_count": 48,
   "metadata": {
    "collapsed": false
   },
   "outputs": [
    {
     "ename": "TypeError",
     "evalue": "cannot convert the series to <type 'int'>",
     "output_type": "error",
     "traceback": [
      "\u001b[1;31m---------------------------------------------------------------------------\u001b[0m",
      "\u001b[1;31mTypeError\u001b[0m                                 Traceback (most recent call last)",
      "\u001b[1;32m<ipython-input-48-3882211cadbd>\u001b[0m in \u001b[0;36m<module>\u001b[1;34m()\u001b[0m\n\u001b[1;32m----> 1\u001b[1;33m \u001b[0magree\u001b[0m\u001b[1;33m.\u001b[0m\u001b[0mindex\u001b[0m\u001b[1;33m(\u001b[0m\u001b[0mint\u001b[0m\u001b[1;33m(\u001b[0m\u001b[0magree\u001b[0m\u001b[1;33m)\u001b[0m\u001b[1;33m==\u001b[0m\u001b[1;36m0\u001b[0m\u001b[1;33m)\u001b[0m\u001b[1;33m\u001b[0m\u001b[0m\n\u001b[0m",
      "\u001b[1;32mD:\\anaconda2.7\\lib\\site-packages\\pandas\\core\\series.pyc\u001b[0m in \u001b[0;36mwrapper\u001b[1;34m(self)\u001b[0m\n\u001b[0;32m     75\u001b[0m             \u001b[1;32mreturn\u001b[0m \u001b[0mconverter\u001b[0m\u001b[1;33m(\u001b[0m\u001b[0mself\u001b[0m\u001b[1;33m.\u001b[0m\u001b[0miloc\u001b[0m\u001b[1;33m[\u001b[0m\u001b[1;36m0\u001b[0m\u001b[1;33m]\u001b[0m\u001b[1;33m)\u001b[0m\u001b[1;33m\u001b[0m\u001b[0m\n\u001b[0;32m     76\u001b[0m         raise TypeError(\n\u001b[1;32m---> 77\u001b[1;33m             \"cannot convert the series to {0}\".format(str(converter)))\n\u001b[0m\u001b[0;32m     78\u001b[0m     \u001b[1;32mreturn\u001b[0m \u001b[0mwrapper\u001b[0m\u001b[1;33m\u001b[0m\u001b[0m\n\u001b[0;32m     79\u001b[0m \u001b[1;33m\u001b[0m\u001b[0m\n",
      "\u001b[1;31mTypeError\u001b[0m: cannot convert the series to <type 'int'>"
     ]
    }
   ],
   "source": [
    "agree.index(agree==0)"
   ]
  },
  {
   "cell_type": "code",
   "execution_count": 49,
   "metadata": {
    "collapsed": false
   },
   "outputs": [
    {
     "data": {
      "text/plain": [
       "103003          0\n",
       "104306          0\n",
       "104304          0\n",
       "104302          0\n",
       "104300          0\n",
       "104293          0\n",
       "104289          0\n",
       "104286          0\n",
       "104285          0\n",
       "104279          0\n",
       "104277          0\n",
       "104275          0\n",
       "104273          0\n",
       "104272          0\n",
       "104270          0\n",
       "104269          0\n",
       "104268          0\n",
       "104267          0\n",
       "104266          0\n",
       "104262          0\n",
       "104261          0\n",
       "104260          0\n",
       "104307          0\n",
       "104258          0\n",
       "104313          0\n",
       "104320          0\n",
       "104373          0\n",
       "104371          0\n",
       "104368          0\n",
       "104366          0\n",
       "           ...   \n",
       "130296     240410\n",
       "124226     242486\n",
       "25835      242507\n",
       "121389     246911\n",
       "57128      247408\n",
       "117635     247408\n",
       "14054      247408\n",
       "167846     247408\n",
       "165212     252262\n",
       "13038      261356\n",
       "150        270619\n",
       "162774     270666\n",
       "170865     272164\n",
       "109250     276975\n",
       "164714     311938\n",
       "6643       314427\n",
       "193375     314428\n",
       "138743     314428\n",
       "116578     314429\n",
       "164313     318960\n",
       "40193      318960\n",
       "118891     339023\n",
       "117713     346094\n",
       "111128     368292\n",
       "118749     406651\n",
       "53544      499498\n",
       "288        532322\n",
       "172724     653899\n",
       "130644     653903\n",
       "6         1265657\n",
       "Name: aggree_count, dtype: int64"
      ]
     },
     "execution_count": 49,
     "metadata": {},
     "output_type": "execute_result"
    }
   ],
   "source": [
    "agree.order()"
   ]
  },
  {
   "cell_type": "code",
   "execution_count": 53,
   "metadata": {
    "collapsed": false
   },
   "outputs": [
    {
     "name": "stdout",
     "output_type": "stream",
     "text": [
      "<class 'pandas.core.frame.DataFrame'>\n",
      "Int64Index: 165877 entries, 0 to 206006\n",
      "Data columns (total 5 columns):\n",
      "aggree_count       165877 non-null int64\n",
      "most_good_topic    165877 non-null object\n",
      "name               165877 non-null object\n",
      "thanks_count       165877 non-null int64\n",
      "url                165877 non-null object\n",
      "dtypes: int64(2), object(3)\n",
      "memory usage: 7.6+ MB\n"
     ]
    }
   ],
   "source": [
    "df1.info()"
   ]
  },
  {
   "cell_type": "code",
   "execution_count": 68,
   "metadata": {
    "collapsed": false
   },
   "outputs": [],
   "source": [
    "df2 = (df1.sort_index(by=['aggree_count','thanks_count'],ascending=[False,False]))[:10]"
   ]
  },
  {
   "cell_type": "code",
   "execution_count": null,
   "metadata": {
    "collapsed": true
   },
   "outputs": [],
   "source": []
  },
  {
   "cell_type": "code",
   "execution_count": 69,
   "metadata": {
    "collapsed": true
   },
   "outputs": [],
   "source": [
    "_ = df2.set_index('name',inplace=True)"
   ]
  },
  {
   "cell_type": "code",
   "execution_count": null,
   "metadata": {
    "collapsed": true
   },
   "outputs": [],
   "source": []
  },
  {
   "cell_type": "code",
   "execution_count": 58,
   "metadata": {
    "collapsed": false
   },
   "outputs": [
    {
     "data": {
      "text/html": [
       "<div>\n",
       "<table border=\"1\" class=\"dataframe\">\n",
       "  <thead>\n",
       "    <tr style=\"text-align: right;\">\n",
       "      <th></th>\n",
       "      <th>aggree_count</th>\n",
       "      <th>most_good_topic</th>\n",
       "      <th>thanks_count</th>\n",
       "      <th>url</th>\n",
       "    </tr>\n",
       "    <tr>\n",
       "      <th>name</th>\n",
       "      <th></th>\n",
       "      <th></th>\n",
       "      <th></th>\n",
       "      <th></th>\n",
       "    </tr>\n",
       "  </thead>\n",
       "  <tbody>\n",
       "    <tr>\n",
       "      <th>[张佳玮]</th>\n",
       "      <td>1265657</td>\n",
       "      <td>[]</td>\n",
       "      <td>237486</td>\n",
       "      <td>http://www.zhihu.com/people/zhang-jia-wei</td>\n",
       "    </tr>\n",
       "    <tr>\n",
       "      <th>[朱炫]</th>\n",
       "      <td>653903</td>\n",
       "      <td>[幽默 ]</td>\n",
       "      <td>144548</td>\n",
       "      <td>http://www.zhihu.com/people/zhu-xuan-86</td>\n",
       "    </tr>\n",
       "    <tr>\n",
       "      <th>[肥肥猫]</th>\n",
       "      <td>532322</td>\n",
       "      <td>[调查类问题 ]</td>\n",
       "      <td>135355</td>\n",
       "      <td>http://www.zhihu.com/people/feifeimao</td>\n",
       "    </tr>\n",
       "    <tr>\n",
       "      <th>[yolfilm]</th>\n",
       "      <td>499498</td>\n",
       "      <td>[]</td>\n",
       "      <td>119908</td>\n",
       "      <td>http://www.zhihu.com/people/yolfilm</td>\n",
       "    </tr>\n",
       "    <tr>\n",
       "      <th>[采铜]</th>\n",
       "      <td>406651</td>\n",
       "      <td>[]</td>\n",
       "      <td>98384</td>\n",
       "      <td>http://www.zhihu.com/people/cai-tong</td>\n",
       "    </tr>\n",
       "    <tr>\n",
       "      <th>[Kaiser]</th>\n",
       "      <td>368292</td>\n",
       "      <td>[]</td>\n",
       "      <td>53706</td>\n",
       "      <td>http://www.zhihu.com/people/kaiserwang730</td>\n",
       "    </tr>\n",
       "    <tr>\n",
       "      <th>[一笑风云过]</th>\n",
       "      <td>346094</td>\n",
       "      <td>[生活 ]</td>\n",
       "      <td>55437</td>\n",
       "      <td>http://www.zhihu.com/people/yixiao-feng-yun-guo</td>\n",
       "    </tr>\n",
       "    <tr>\n",
       "      <th>[vczh]</th>\n",
       "      <td>339023</td>\n",
       "      <td>[计算机图形学 ]</td>\n",
       "      <td>44968</td>\n",
       "      <td>http://www.zhihu.com/people/zord-vczh</td>\n",
       "    </tr>\n",
       "    <tr>\n",
       "      <th>[Justin Lee]</th>\n",
       "      <td>318960</td>\n",
       "      <td>[人际交往 ]</td>\n",
       "      <td>71049</td>\n",
       "      <td>http://www.zhihu.com/people/lzy135</td>\n",
       "    </tr>\n",
       "    <tr>\n",
       "      <th>[李嫑嫑]</th>\n",
       "      <td>314427</td>\n",
       "      <td>[音乐 ]</td>\n",
       "      <td>54576</td>\n",
       "      <td>http://www.zhihu.com/people/linaoshi</td>\n",
       "    </tr>\n",
       "  </tbody>\n",
       "</table>\n",
       "</div>"
      ],
      "text/plain": [
       "              aggree_count most_good_topic  thanks_count  \\\n",
       "name                                                       \n",
       "[张佳玮]              1265657              []        237486   \n",
       "[朱炫]                653903           [幽默 ]        144548   \n",
       "[肥肥猫]               532322        [调查类问题 ]        135355   \n",
       "[yolfilm]           499498              []        119908   \n",
       "[采铜]                406651              []         98384   \n",
       "[Kaiser]            368292              []         53706   \n",
       "[一笑风云过]             346094           [生活 ]         55437   \n",
       "[vczh]              339023       [计算机图形学 ]         44968   \n",
       "[Justin Lee]        318960         [人际交往 ]         71049   \n",
       "[李嫑嫑]               314427           [音乐 ]         54576   \n",
       "\n",
       "                                                          url  \n",
       "name                                                           \n",
       "[张佳玮]               http://www.zhihu.com/people/zhang-jia-wei  \n",
       "[朱炫]                  http://www.zhihu.com/people/zhu-xuan-86  \n",
       "[肥肥猫]                   http://www.zhihu.com/people/feifeimao  \n",
       "[yolfilm]                 http://www.zhihu.com/people/yolfilm  \n",
       "[采铜]                     http://www.zhihu.com/people/cai-tong  \n",
       "[Kaiser]            http://www.zhihu.com/people/kaiserwang730  \n",
       "[一笑风云过]       http://www.zhihu.com/people/yixiao-feng-yun-guo  \n",
       "[vczh]                  http://www.zhihu.com/people/zord-vczh  \n",
       "[Justin Lee]               http://www.zhihu.com/people/lzy135  \n",
       "[李嫑嫑]                    http://www.zhihu.com/people/linaoshi  "
      ]
     },
     "execution_count": 58,
     "metadata": {},
     "output_type": "execute_result"
    }
   ],
   "source": [
    "df2"
   ]
  },
  {
   "cell_type": "code",
   "execution_count": 72,
   "metadata": {
    "collapsed": false
   },
   "outputs": [
    {
     "data": {
      "text/plain": [
       "<matplotlib.axes._subplots.AxesSubplot at 0x296c93c8>"
      ]
     },
     "execution_count": 72,
     "metadata": {},
     "output_type": "execute_result"
    },
    {
     "data": {
      "image/png": "[encoded data removed]",
      "text/plain": [
       "<matplotlib.figure.Figure at 0x29756cc0>"
      ]
     },
     "metadata": {},
     "output_type": "display_data"
    }
   ],
   "source": [
    "df2['aggree_count'].plot(kind='bar')"
   ]
  },
  {
   "cell_type": "code",
   "execution_count": null,
   "metadata": {
    "collapsed": true
   },
   "outputs": [],
   "source": []
  },
  {
   "cell_type": "code",
   "execution_count": null,
   "metadata": {
    "collapsed": true
   },
   "outputs": [],
   "source": []
  },
  {
   "cell_type": "code",
   "execution_count": 70,
   "metadata": {
    "collapsed": true
   },
   "outputs": [],
   "source": [
    "def get_str(obj):\n",
    "    obj = ''.join(obj)\n",
    "    #obj = obj.encode('utf-8')\n",
    "    return obj"
   ]
  },
  {
   "cell_type": "code",
   "execution_count": null,
   "metadata": {
    "collapsed": true
   },
   "outputs": [],
   "source": []
  },
  {
   "cell_type": "code",
   "execution_count": null,
   "metadata": {
    "collapsed": true
   },
   "outputs": [],
   "source": []
  },
  {
   "cell_type": "code",
   "execution_count": 71,
   "metadata": {
    "collapsed": true
   },
   "outputs": [],
   "source": [
    "df2.index = df2.index.map(get_str)"
   ]
  },
  {
   "cell_type": "code",
   "execution_count": null,
   "metadata": {
    "collapsed": true
   },
   "outputs": [],
   "source": []
  },
  {
   "cell_type": "code",
   "execution_count": null,
   "metadata": {
    "collapsed": true
   },
   "outputs": [],
   "source": []
  },
  {
   "cell_type": "code",
   "execution_count": 66,
   "metadata": {
    "collapsed": false
   },
   "outputs": [
    {
     "name": "stdout",
     "output_type": "stream",
     "text": [
      "['\\xe5\\xbc\\xa0\\xe4\\xbd\\xb3\\xe7\\x8e\\xae' '\\xe6\\x9c\\xb1\\xe7\\x82\\xab'\n",
      " '\\xe8\\x82\\xa5\\xe8\\x82\\xa5\\xe7\\x8c\\xab' 'yolfilm'\n",
      " '\\xe9\\x87\\x87\\xe9\\x93\\x9c' 'Kaiser'\n",
      " '\\xe4\\xb8\\x80\\xe7\\xac\\x91\\xe9\\xa3\\x8e\\xe4\\xba\\x91\\xe8\\xbf\\x87' 'vczh'\n",
      " 'Justin Lee' '\\xe6\\x9d\\x8e\\xe5\\xab\\x91\\xe5\\xab\\x91']\n"
     ]
    }
   ],
   "source": [
    "print index"
   ]
  },
  {
   "cell_type": "code",
   "execution_count": 73,
   "metadata": {
    "collapsed": false
   },
   "outputs": [
    {
     "data": {
      "text/plain": [
       "Index([       u'张佳玮',         u'朱炫',        u'肥肥猫',    u'yolfilm',\n",
       "               u'采铜',     u'Kaiser',      u'一笑风云过',       u'vczh',\n",
       "       u'Justin Lee',        u'李嫑嫑'],\n",
       "      dtype='object')"
      ]
     },
     "execution_count": 73,
     "metadata": {},
     "output_type": "execute_result"
    }
   ],
   "source": [
    "df2.index"
   ]
  },
  {
   "cell_type": "code",
   "execution_count": 74,
   "metadata": {
    "collapsed": true
   },
   "outputs": [],
   "source": [
    "import matplotlib.pyplot as plt "
   ]
  },
  {
   "cell_type": "code",
   "execution_count": 75,
   "metadata": {
    "collapsed": true
   },
   "outputs": [],
   "source": [
    "from matplotlib.font_manager import FontProperties "
   ]
  },
  {
   "cell_type": "code",
   "execution_count": 76,
   "metadata": {
    "collapsed": true
   },
   "outputs": [],
   "source": [
    "font = FontProperties(fname=r\"c:\\windows\\fonts\\simsun.ttc\", size=14) "
   ]
  },
  {
   "cell_type": "code",
   "execution_count": 77,
   "metadata": {
    "collapsed": false
   },
   "outputs": [
    {
     "data": {
      "image/png": "[encoded data removed]",
      "text/plain": [
       "<matplotlib.figure.Figure at 0x250aa278>"
      ]
     },
     "metadata": {},
     "output_type": "display_data"
    }
   ],
   "source": [
    "ax = df2.plot(kind = 'bar', rot = 0) \n",
    "for label in ax.get_xticklabels(): \n",
    "    label.set_fontproperties(font) \n",
    "plt.show()"
   ]
  },
  {
   "cell_type": "code",
   "execution_count": 78,
   "metadata": {
    "collapsed": true
   },
   "outputs": [],
   "source": [
    "plt.show?"
   ]
  },
  {
   "cell_type": "code",
   "execution_count": 79,
   "metadata": {
    "collapsed": false
   },
   "outputs": [
    {
     "ename": "TypeError",
     "evalue": "show() got an unexpected keyword argument 'size'",
     "output_type": "error",
     "traceback": [
      "\u001b[1;31m---------------------------------------------------------------------------\u001b[0m",
      "\u001b[1;31mTypeError\u001b[0m                                 Traceback (most recent call last)",
      "\u001b[1;32m<ipython-input-79-cbd2d296a3c7>\u001b[0m in \u001b[0;36m<module>\u001b[1;34m()\u001b[0m\n\u001b[1;32m----> 1\u001b[1;33m \u001b[0mplt\u001b[0m\u001b[1;33m.\u001b[0m\u001b[0mshow\u001b[0m\u001b[1;33m(\u001b[0m\u001b[0msize\u001b[0m\u001b[1;33m=\u001b[0m\u001b[1;33m(\u001b[0m\u001b[1;36m10\u001b[0m\u001b[1;33m,\u001b[0m\u001b[1;36m10\u001b[0m\u001b[1;33m)\u001b[0m\u001b[1;33m)\u001b[0m\u001b[1;33m\u001b[0m\u001b[0m\n\u001b[0m",
      "\u001b[1;32mD:\\anaconda2.7\\lib\\site-packages\\matplotlib\\pyplot.pyc\u001b[0m in \u001b[0;36mshow\u001b[1;34m(*args, **kw)\u001b[0m\n\u001b[0;32m    153\u001b[0m     \"\"\"\n\u001b[0;32m    154\u001b[0m     \u001b[1;32mglobal\u001b[0m \u001b[0m_show\u001b[0m\u001b[1;33m\u001b[0m\u001b[0m\n\u001b[1;32m--> 155\u001b[1;33m     \u001b[1;32mreturn\u001b[0m \u001b[0m_show\u001b[0m\u001b[1;33m(\u001b[0m\u001b[1;33m*\u001b[0m\u001b[0margs\u001b[0m\u001b[1;33m,\u001b[0m \u001b[1;33m**\u001b[0m\u001b[0mkw\u001b[0m\u001b[1;33m)\u001b[0m\u001b[1;33m\u001b[0m\u001b[0m\n\u001b[0m\u001b[0;32m    156\u001b[0m \u001b[1;33m\u001b[0m\u001b[0m\n\u001b[0;32m    157\u001b[0m \u001b[1;33m\u001b[0m\u001b[0m\n",
      "\u001b[1;31mTypeError\u001b[0m: show() got an unexpected keyword argument 'size'"
     ]
    }
   ],
   "source": [
    "plt.show(size=(10,10))"
   ]
  },
  {
   "cell_type": "code",
   "execution_count": 1,
   "metadata": {
    "collapsed": true
   },
   "outputs": [],
   "source": [
    "import pandas as pd"
   ]
  },
  {
   "cell_type": "code",
   "execution_count": 2,
   "metadata": {
    "collapsed": true
   },
   "outputs": [],
   "source": [
    "from pandas import DataFrame,Series"
   ]
  },
  {
   "cell_type": "code",
   "execution_count": 3,
   "metadata": {
    "collapsed": true
   },
   "outputs": [],
   "source": [
    "%matplotlib inline"
   ]
  },
  {
   "cell_type": "code",
   "execution_count": 4,
   "metadata": {
    "collapsed": true
   },
   "outputs": [],
   "source": [
    "import numpy as np "
   ]
  },
  {
   "cell_type": "code",
   "execution_count": 39,
   "metadata": {
    "collapsed": true
   },
   "outputs": [],
   "source": [
    "db_list = []  #存放用户信息列表"
   ]
  },
  {
   "cell_type": "code",
   "execution_count": 15,
   "metadata": {
    "collapsed": true
   },
   "outputs": [],
   "source": [
    "import json,os"
   ]
  },
  {
   "cell_type": "code",
   "execution_count": 40,
   "metadata": {
    "collapsed": false
   },
   "outputs": [],
   "source": [
    "for i in range(1,21):  #获取文件夹下面的20个用户文件，命名分别为user1,user2...user20\n",
    "    file_name = \"user%s.json\" %i\n",
    "    db_list.extend(json.load(open(os.path.join('C:\\Users\\Administrator\\Desktop\\zhihu_data',file_name))))"
   ]
  },
  {
   "cell_type": "code",
   "execution_count": 41,
   "metadata": {
    "collapsed": false
   },
   "outputs": [
    {
     "data": {
      "text/plain": [
       "1051127"
      ]
     },
     "execution_count": 41,
     "metadata": {},
     "output_type": "execute_result"
    }
   ],
   "source": [
    "len(db_list)    #总计共有100多w条用户信息"
   ]
  },
  {
   "cell_type": "code",
   "execution_count": 42,
   "metadata": {
    "collapsed": false
   },
   "outputs": [
    {
     "data": {
      "text/plain": [
       "{u'aggree_count': [u'136034'],\n",
       " u'most_good_topic': [u'\\u5a92\\u4f53 '],\n",
       " u'name': [u'\\u5f20\\u4eae'],\n",
       " u'thanks_count': [u'28346'],\n",
       " u'url': u'http://www.zhihu.com/people/imike'}"
      ]
     },
     "execution_count": 42,
     "metadata": {},
     "output_type": "execute_result"
    }
   ],
   "source": [
    "db_list[0]   #db_list存放用户信息"
   ]
  },
  {
   "cell_type": "code",
   "execution_count": 43,
   "metadata": {
    "collapsed": true
   },
   "outputs": [],
   "source": [
    "df = DataFrame(db_list)     #"
   ]
  },
  {
   "cell_type": "code",
   "execution_count": 44,
   "metadata": {
    "collapsed": false
   },
   "outputs": [
    {
     "data": {
      "text/html": [
       "<div>\n",
       "<table border=\"1\" class=\"dataframe\">\n",
       "  <thead>\n",
       "    <tr style=\"text-align: right;\">\n",
       "      <th></th>\n",
       "      <th>aggree_count</th>\n",
       "      <th>most_good_topic</th>\n",
       "      <th>name</th>\n",
       "      <th>thanks_count</th>\n",
       "      <th>url</th>\n",
       "    </tr>\n",
       "  </thead>\n",
       "  <tbody>\n",
       "    <tr>\n",
       "      <th>0</th>\n",
       "      <td>[136034]</td>\n",
       "      <td>[媒体 ]</td>\n",
       "      <td>[张亮]</td>\n",
       "      <td>[28346]</td>\n",
       "      <td>http://www.zhihu.com/people/imike</td>\n",
       "    </tr>\n",
       "    <tr>\n",
       "      <th>1</th>\n",
       "      <td>[23318]</td>\n",
       "      <td>[首次公开募股（IPO） ]</td>\n",
       "      <td>[Luo Patrick]</td>\n",
       "      <td>[8057]</td>\n",
       "      <td>http://www.zhihu.com/people/patrickluo</td>\n",
       "    </tr>\n",
       "    <tr>\n",
       "      <th>2</th>\n",
       "      <td>[4151]</td>\n",
       "      <td>[商业 ]</td>\n",
       "      <td>[少少]</td>\n",
       "      <td>[1938]</td>\n",
       "      <td>http://www.zhihu.com/people/zliybst</td>\n",
       "    </tr>\n",
       "    <tr>\n",
       "      <th>3</th>\n",
       "      <td>[15476]</td>\n",
       "      <td>[]</td>\n",
       "      <td>[道哥]</td>\n",
       "      <td>[735]</td>\n",
       "      <td>http://www.zhihu.com/people/aullik5</td>\n",
       "    </tr>\n",
       "    <tr>\n",
       "      <th>4</th>\n",
       "      <td>[6295]</td>\n",
       "      <td>[经济学 ]</td>\n",
       "      <td>[冯晗]</td>\n",
       "      <td>[2008]</td>\n",
       "      <td>http://www.zhihu.com/people/feng-han</td>\n",
       "    </tr>\n",
       "    <tr>\n",
       "      <th>5</th>\n",
       "      <td>[233602]</td>\n",
       "      <td>[社会 ]</td>\n",
       "      <td>[李松蔚]</td>\n",
       "      <td>[43549]</td>\n",
       "      <td>http://www.zhihu.com/people/lisongwei</td>\n",
       "    </tr>\n",
       "    <tr>\n",
       "      <th>6</th>\n",
       "      <td>[1265657]</td>\n",
       "      <td>[]</td>\n",
       "      <td>[张佳玮]</td>\n",
       "      <td>[237486]</td>\n",
       "      <td>http://www.zhihu.com/people/zhang-jia-wei</td>\n",
       "    </tr>\n",
       "    <tr>\n",
       "      <th>7</th>\n",
       "      <td>[19698]</td>\n",
       "      <td>[中国 ]</td>\n",
       "      <td>[sky]</td>\n",
       "      <td>[6795]</td>\n",
       "      <td>http://www.zhihu.com/people/sky-86-5</td>\n",
       "    </tr>\n",
       "    <tr>\n",
       "      <th>8</th>\n",
       "      <td>[12181]</td>\n",
       "      <td>[金融工程 ]</td>\n",
       "      <td>[袁浩瀚]</td>\n",
       "      <td>[3507]</td>\n",
       "      <td>http://www.zhihu.com/people/id47</td>\n",
       "    </tr>\n",
       "    <tr>\n",
       "      <th>9</th>\n",
       "      <td>[5707]</td>\n",
       "      <td>[]</td>\n",
       "      <td>[张若鸿]</td>\n",
       "      <td>[745]</td>\n",
       "      <td>http://www.zhihu.com/people/zhang-ruo-hong</td>\n",
       "    </tr>\n",
       "  </tbody>\n",
       "</table>\n",
       "</div>"
      ],
      "text/plain": [
       "  aggree_count most_good_topic           name thanks_count  \\\n",
       "0     [136034]           [媒体 ]           [张亮]      [28346]   \n",
       "1      [23318]  [首次公开募股（IPO） ]  [Luo Patrick]       [8057]   \n",
       "2       [4151]           [商业 ]           [少少]       [1938]   \n",
       "3      [15476]              []           [道哥]        [735]   \n",
       "4       [6295]          [经济学 ]           [冯晗]       [2008]   \n",
       "5     [233602]           [社会 ]          [李松蔚]      [43549]   \n",
       "6    [1265657]              []          [张佳玮]     [237486]   \n",
       "7      [19698]           [中国 ]          [sky]       [6795]   \n",
       "8      [12181]         [金融工程 ]          [袁浩瀚]       [3507]   \n",
       "9       [5707]              []          [张若鸿]        [745]   \n",
       "\n",
       "                                          url  \n",
       "0           http://www.zhihu.com/people/imike  \n",
       "1      http://www.zhihu.com/people/patrickluo  \n",
       "2         http://www.zhihu.com/people/zliybst  \n",
       "3         http://www.zhihu.com/people/aullik5  \n",
       "4        http://www.zhihu.com/people/feng-han  \n",
       "5       http://www.zhihu.com/people/lisongwei  \n",
       "6   http://www.zhihu.com/people/zhang-jia-wei  \n",
       "7        http://www.zhihu.com/people/sky-86-5  \n",
       "8            http://www.zhihu.com/people/id47  \n",
       "9  http://www.zhihu.com/people/zhang-ruo-hong  "
      ]
     },
     "execution_count": 44,
     "metadata": {},
     "output_type": "execute_result"
    }
   ],
   "source": [
    "df[:10]"
   ]
  },
  {
   "cell_type": "code",
   "execution_count": 45,
   "metadata": {
    "collapsed": true
   },
   "outputs": [],
   "source": [
    "df = df.drop_duplicates('url')      #对数据去重，这里选取url作为去重的标准，因为对于一个用户来说，url相同，那么其他信息也肯定相同"
   ]
  },
  {
   "cell_type": "code",
   "execution_count": 46,
   "metadata": {
    "collapsed": false
   },
   "outputs": [
    {
     "data": {
      "text/plain": [
       "445295"
      ]
     },
     "execution_count": 46,
     "metadata": {},
     "output_type": "execute_result"
    }
   ],
   "source": [
    "len(df)                             #经过去去重后，我们剩下了45w不同用户的信息（蛋疼，多进程爬虫带来速度上的提升，也带来了重合）"
   ]
  },
  {
   "cell_type": "code",
   "execution_count": 49,
   "metadata": {
    "collapsed": true
   },
   "outputs": [],
   "source": [
    "def get_int(obj): #将df的aggree_count和thanks_count列由list类型转化成int类型\n",
    "    obj = ''.join(obj)    #list to string\n",
    "    obj = obj.encode('utf-8')  #unicode to utf-8\n",
    "    return int(obj) if obj else 0 #最后如果obj为空字符串，return 0"
   ]
  },
  {
   "cell_type": "code",
   "execution_count": 50,
   "metadata": {
    "collapsed": false
   },
   "outputs": [],
   "source": [
    "df.aggree_count = df.aggree_count.map(get_int)"
   ]
  },
  {
   "cell_type": "code",
   "execution_count": 51,
   "metadata": {
    "collapsed": true
   },
   "outputs": [],
   "source": [
    "df.thanks_count = df.thanks_count.map(get_int)"
   ]
  },
  {
   "cell_type": "code",
   "execution_count": 52,
   "metadata": {
    "collapsed": false
   },
   "outputs": [
    {
     "data": {
      "text/html": [
       "<div>\n",
       "<table border=\"1\" class=\"dataframe\">\n",
       "  <thead>\n",
       "    <tr style=\"text-align: right;\">\n",
       "      <th></th>\n",
       "      <th>aggree_count</th>\n",
       "      <th>most_good_topic</th>\n",
       "      <th>name</th>\n",
       "      <th>thanks_count</th>\n",
       "      <th>url</th>\n",
       "    </tr>\n",
       "  </thead>\n",
       "  <tbody>\n",
       "    <tr>\n",
       "      <th>0</th>\n",
       "      <td>136034</td>\n",
       "      <td>[媒体 ]</td>\n",
       "      <td>[张亮]</td>\n",
       "      <td>28346</td>\n",
       "      <td>http://www.zhihu.com/people/imike</td>\n",
       "    </tr>\n",
       "    <tr>\n",
       "      <th>1</th>\n",
       "      <td>23318</td>\n",
       "      <td>[首次公开募股（IPO） ]</td>\n",
       "      <td>[Luo Patrick]</td>\n",
       "      <td>8057</td>\n",
       "      <td>http://www.zhihu.com/people/patrickluo</td>\n",
       "    </tr>\n",
       "    <tr>\n",
       "      <th>2</th>\n",
       "      <td>4151</td>\n",
       "      <td>[商业 ]</td>\n",
       "      <td>[少少]</td>\n",
       "      <td>1938</td>\n",
       "      <td>http://www.zhihu.com/people/zliybst</td>\n",
       "    </tr>\n",
       "    <tr>\n",
       "      <th>3</th>\n",
       "      <td>15476</td>\n",
       "      <td>[]</td>\n",
       "      <td>[道哥]</td>\n",
       "      <td>735</td>\n",
       "      <td>http://www.zhihu.com/people/aullik5</td>\n",
       "    </tr>\n",
       "    <tr>\n",
       "      <th>4</th>\n",
       "      <td>6295</td>\n",
       "      <td>[经济学 ]</td>\n",
       "      <td>[冯晗]</td>\n",
       "      <td>2008</td>\n",
       "      <td>http://www.zhihu.com/people/feng-han</td>\n",
       "    </tr>\n",
       "    <tr>\n",
       "      <th>5</th>\n",
       "      <td>233602</td>\n",
       "      <td>[社会 ]</td>\n",
       "      <td>[李松蔚]</td>\n",
       "      <td>43549</td>\n",
       "      <td>http://www.zhihu.com/people/lisongwei</td>\n",
       "    </tr>\n",
       "    <tr>\n",
       "      <th>6</th>\n",
       "      <td>1265657</td>\n",
       "      <td>[]</td>\n",
       "      <td>[张佳玮]</td>\n",
       "      <td>237486</td>\n",
       "      <td>http://www.zhihu.com/people/zhang-jia-wei</td>\n",
       "    </tr>\n",
       "    <tr>\n",
       "      <th>7</th>\n",
       "      <td>19698</td>\n",
       "      <td>[中国 ]</td>\n",
       "      <td>[sky]</td>\n",
       "      <td>6795</td>\n",
       "      <td>http://www.zhihu.com/people/sky-86-5</td>\n",
       "    </tr>\n",
       "    <tr>\n",
       "      <th>8</th>\n",
       "      <td>12181</td>\n",
       "      <td>[金融工程 ]</td>\n",
       "      <td>[袁浩瀚]</td>\n",
       "      <td>3507</td>\n",
       "      <td>http://www.zhihu.com/people/id47</td>\n",
       "    </tr>\n",
       "    <tr>\n",
       "      <th>9</th>\n",
       "      <td>5707</td>\n",
       "      <td>[]</td>\n",
       "      <td>[张若鸿]</td>\n",
       "      <td>745</td>\n",
       "      <td>http://www.zhihu.com/people/zhang-ruo-hong</td>\n",
       "    </tr>\n",
       "  </tbody>\n",
       "</table>\n",
       "</div>"
      ],
      "text/plain": [
       "   aggree_count most_good_topic           name  thanks_count  \\\n",
       "0        136034           [媒体 ]           [张亮]         28346   \n",
       "1         23318  [首次公开募股（IPO） ]  [Luo Patrick]          8057   \n",
       "2          4151           [商业 ]           [少少]          1938   \n",
       "3         15476              []           [道哥]           735   \n",
       "4          6295          [经济学 ]           [冯晗]          2008   \n",
       "5        233602           [社会 ]          [李松蔚]         43549   \n",
       "6       1265657              []          [张佳玮]        237486   \n",
       "7         19698           [中国 ]          [sky]          6795   \n",
       "8         12181         [金融工程 ]          [袁浩瀚]          3507   \n",
       "9          5707              []          [张若鸿]           745   \n",
       "\n",
       "                                          url  \n",
       "0           http://www.zhihu.com/people/imike  \n",
       "1      http://www.zhihu.com/people/patrickluo  \n",
       "2         http://www.zhihu.com/people/zliybst  \n",
       "3         http://www.zhihu.com/people/aullik5  \n",
       "4        http://www.zhihu.com/people/feng-han  \n",
       "5       http://www.zhihu.com/people/lisongwei  \n",
       "6   http://www.zhihu.com/people/zhang-jia-wei  \n",
       "7        http://www.zhihu.com/people/sky-86-5  \n",
       "8            http://www.zhihu.com/people/id47  \n",
       "9  http://www.zhihu.com/people/zhang-ruo-hong  "
      ]
     },
     "execution_count": 52,
     "metadata": {},
     "output_type": "execute_result"
    }
   ],
   "source": [
    "df[:10]    #aggree_count和thanks_count都转化成int类型啦"
   ]
  },
  {
   "cell_type": "code",
   "execution_count": 55,
   "metadata": {
    "collapsed": true
   },
   "outputs": [],
   "source": [
    "def get_str(obj):  #将most_good_topic和thanks_count由list转化成str\n",
    "    obj = ''.join(obj)\n",
    "    return obj"
   ]
  },
  {
   "cell_type": "code",
   "execution_count": 60,
   "metadata": {
    "collapsed": true
   },
   "outputs": [],
   "source": [
    "df.most_good_topic = df.most_good_topic.map(get_str)"
   ]
  },
  {
   "cell_type": "code",
   "execution_count": 61,
   "metadata": {
    "collapsed": true
   },
   "outputs": [],
   "source": [
    "df.name = df.name.map(get_str)"
   ]
  },
  {
   "cell_type": "code",
   "execution_count": 62,
   "metadata": {
    "collapsed": false
   },
   "outputs": [
    {
     "data": {
      "text/html": [
       "<div>\n",
       "<table border=\"1\" class=\"dataframe\">\n",
       "  <thead>\n",
       "    <tr style=\"text-align: right;\">\n",
       "      <th></th>\n",
       "      <th>aggree_count</th>\n",
       "      <th>most_good_topic</th>\n",
       "      <th>name</th>\n",
       "      <th>thanks_count</th>\n",
       "      <th>url</th>\n",
       "    </tr>\n",
       "  </thead>\n",
       "  <tbody>\n",
       "    <tr>\n",
       "      <th>0</th>\n",
       "      <td>136034</td>\n",
       "      <td>媒体</td>\n",
       "      <td>张亮</td>\n",
       "      <td>28346</td>\n",
       "      <td>http://www.zhihu.com/people/imike</td>\n",
       "    </tr>\n",
       "    <tr>\n",
       "      <th>1</th>\n",
       "      <td>23318</td>\n",
       "      <td>首次公开募股（IPO）</td>\n",
       "      <td>Luo Patrick</td>\n",
       "      <td>8057</td>\n",
       "      <td>http://www.zhihu.com/people/patrickluo</td>\n",
       "    </tr>\n",
       "    <tr>\n",
       "      <th>2</th>\n",
       "      <td>4151</td>\n",
       "      <td>商业</td>\n",
       "      <td>少少</td>\n",
       "      <td>1938</td>\n",
       "      <td>http://www.zhihu.com/people/zliybst</td>\n",
       "    </tr>\n",
       "    <tr>\n",
       "      <th>3</th>\n",
       "      <td>15476</td>\n",
       "      <td></td>\n",
       "      <td>道哥</td>\n",
       "      <td>735</td>\n",
       "      <td>http://www.zhihu.com/people/aullik5</td>\n",
       "    </tr>\n",
       "    <tr>\n",
       "      <th>4</th>\n",
       "      <td>6295</td>\n",
       "      <td>经济学</td>\n",
       "      <td>冯晗</td>\n",
       "      <td>2008</td>\n",
       "      <td>http://www.zhihu.com/people/feng-han</td>\n",
       "    </tr>\n",
       "    <tr>\n",
       "      <th>5</th>\n",
       "      <td>233602</td>\n",
       "      <td>社会</td>\n",
       "      <td>李松蔚</td>\n",
       "      <td>43549</td>\n",
       "      <td>http://www.zhihu.com/people/lisongwei</td>\n",
       "    </tr>\n",
       "    <tr>\n",
       "      <th>6</th>\n",
       "      <td>1265657</td>\n",
       "      <td></td>\n",
       "      <td>张佳玮</td>\n",
       "      <td>237486</td>\n",
       "      <td>http://www.zhihu.com/people/zhang-jia-wei</td>\n",
       "    </tr>\n",
       "    <tr>\n",
       "      <th>7</th>\n",
       "      <td>19698</td>\n",
       "      <td>中国</td>\n",
       "      <td>sky</td>\n",
       "      <td>6795</td>\n",
       "      <td>http://www.zhihu.com/people/sky-86-5</td>\n",
       "    </tr>\n",
       "    <tr>\n",
       "      <th>8</th>\n",
       "      <td>12181</td>\n",
       "      <td>金融工程</td>\n",
       "      <td>袁浩瀚</td>\n",
       "      <td>3507</td>\n",
       "      <td>http://www.zhihu.com/people/id47</td>\n",
       "    </tr>\n",
       "    <tr>\n",
       "      <th>9</th>\n",
       "      <td>5707</td>\n",
       "      <td></td>\n",
       "      <td>张若鸿</td>\n",
       "      <td>745</td>\n",
       "      <td>http://www.zhihu.com/people/zhang-ruo-hong</td>\n",
       "    </tr>\n",
       "  </tbody>\n",
       "</table>\n",
       "</div>"
      ],
      "text/plain": [
       "   aggree_count most_good_topic         name  thanks_count  \\\n",
       "0        136034             媒体            张亮         28346   \n",
       "1         23318    首次公开募股（IPO）   Luo Patrick          8057   \n",
       "2          4151             商业            少少          1938   \n",
       "3         15476                           道哥           735   \n",
       "4          6295            经济学            冯晗          2008   \n",
       "5        233602             社会           李松蔚         43549   \n",
       "6       1265657                          张佳玮        237486   \n",
       "7         19698             中国           sky          6795   \n",
       "8         12181           金融工程           袁浩瀚          3507   \n",
       "9          5707                          张若鸿           745   \n",
       "\n",
       "                                          url  \n",
       "0           http://www.zhihu.com/people/imike  \n",
       "1      http://www.zhihu.com/people/patrickluo  \n",
       "2         http://www.zhihu.com/people/zliybst  \n",
       "3         http://www.zhihu.com/people/aullik5  \n",
       "4        http://www.zhihu.com/people/feng-han  \n",
       "5       http://www.zhihu.com/people/lisongwei  \n",
       "6   http://www.zhihu.com/people/zhang-jia-wei  \n",
       "7        http://www.zhihu.com/people/sky-86-5  \n",
       "8            http://www.zhihu.com/people/id47  \n",
       "9  http://www.zhihu.com/people/zhang-ruo-hong  "
      ]
     },
     "execution_count": 62,
     "metadata": {},
     "output_type": "execute_result"
    }
   ],
   "source": [
    "df[:10]"
   ]
  },
  {
   "cell_type": "code",
   "execution_count": null,
   "metadata": {
    "collapsed": true
   },
   "outputs": [],
   "source": [
    "#找出这45w用户中，收到的点赞数最多的人,赶紧去看看你们心目中的知乎大神吧，现在知道要关注谁了吧"
   ]
  },
  {
   "cell_type": "code",
   "execution_count": 64,
   "metadata": {
    "collapsed": false
   },
   "outputs": [
    {
     "data": {
      "text/html": [
       "<div>\n",
       "<table border=\"1\" class=\"dataframe\">\n",
       "  <thead>\n",
       "    <tr style=\"text-align: right;\">\n",
       "      <th></th>\n",
       "      <th>aggree_count</th>\n",
       "      <th>most_good_topic</th>\n",
       "      <th>name</th>\n",
       "      <th>thanks_count</th>\n",
       "      <th>url</th>\n",
       "    </tr>\n",
       "  </thead>\n",
       "  <tbody>\n",
       "    <tr>\n",
       "      <th>6</th>\n",
       "      <td>1265657</td>\n",
       "      <td></td>\n",
       "      <td>张佳玮</td>\n",
       "      <td>237486</td>\n",
       "      <td>http://www.zhihu.com/people/zhang-jia-wei</td>\n",
       "    </tr>\n",
       "    <tr>\n",
       "      <th>150180</th>\n",
       "      <td>653903</td>\n",
       "      <td>幽默</td>\n",
       "      <td>朱炫</td>\n",
       "      <td>144548</td>\n",
       "      <td>http://www.zhihu.com/people/zhu-xuan-86</td>\n",
       "    </tr>\n",
       "    <tr>\n",
       "      <th>288</th>\n",
       "      <td>532322</td>\n",
       "      <td>调查类问题</td>\n",
       "      <td>肥肥猫</td>\n",
       "      <td>135355</td>\n",
       "      <td>http://www.zhihu.com/people/feifeimao</td>\n",
       "    </tr>\n",
       "    <tr>\n",
       "      <th>61837</th>\n",
       "      <td>499498</td>\n",
       "      <td></td>\n",
       "      <td>yolfilm</td>\n",
       "      <td>119908</td>\n",
       "      <td>http://www.zhihu.com/people/yolfilm</td>\n",
       "    </tr>\n",
       "    <tr>\n",
       "      <th>490241</th>\n",
       "      <td>421979</td>\n",
       "      <td></td>\n",
       "      <td>GayScript</td>\n",
       "      <td>88273</td>\n",
       "      <td>http://www.zhihu.com/people/gayscript</td>\n",
       "    </tr>\n",
       "    <tr>\n",
       "      <th>415540</th>\n",
       "      <td>406983</td>\n",
       "      <td>美食</td>\n",
       "      <td>谢熊猫君</td>\n",
       "      <td>92042</td>\n",
       "      <td>http://www.zhihu.com/people/xiepanda</td>\n",
       "    </tr>\n",
       "    <tr>\n",
       "      <th>138285</th>\n",
       "      <td>406651</td>\n",
       "      <td></td>\n",
       "      <td>采铜</td>\n",
       "      <td>98384</td>\n",
       "      <td>http://www.zhihu.com/people/cai-tong</td>\n",
       "    </tr>\n",
       "    <tr>\n",
       "      <th>394719</th>\n",
       "      <td>369007</td>\n",
       "      <td></td>\n",
       "      <td>菠菜</td>\n",
       "      <td>103076</td>\n",
       "      <td>http://www.zhihu.com/people/bo-cai-28-7</td>\n",
       "    </tr>\n",
       "    <tr>\n",
       "      <th>119421</th>\n",
       "      <td>368292</td>\n",
       "      <td></td>\n",
       "      <td>Kaiser</td>\n",
       "      <td>53706</td>\n",
       "      <td>http://www.zhihu.com/people/kaiserwang730</td>\n",
       "    </tr>\n",
       "    <tr>\n",
       "      <th>879559</th>\n",
       "      <td>361997</td>\n",
       "      <td>恋爱</td>\n",
       "      <td>王豖</td>\n",
       "      <td>77119</td>\n",
       "      <td>http://www.zhihu.com/people/WxzxzW</td>\n",
       "    </tr>\n",
       "  </tbody>\n",
       "</table>\n",
       "</div>"
      ],
      "text/plain": [
       "        aggree_count most_good_topic       name  thanks_count  \\\n",
       "6            1265657                        张佳玮        237486   \n",
       "150180        653903             幽默          朱炫        144548   \n",
       "288           532322          调查类问题         肥肥猫        135355   \n",
       "61837         499498                    yolfilm        119908   \n",
       "490241        421979                  GayScript         88273   \n",
       "415540        406983             美食        谢熊猫君         92042   \n",
       "138285        406651                         采铜         98384   \n",
       "394719        369007                         菠菜        103076   \n",
       "119421        368292                     Kaiser         53706   \n",
       "879559        361997             恋爱          王豖         77119   \n",
       "\n",
       "                                              url  \n",
       "6       http://www.zhihu.com/people/zhang-jia-wei  \n",
       "150180    http://www.zhihu.com/people/zhu-xuan-86  \n",
       "288         http://www.zhihu.com/people/feifeimao  \n",
       "61837         http://www.zhihu.com/people/yolfilm  \n",
       "490241      http://www.zhihu.com/people/gayscript  \n",
       "415540       http://www.zhihu.com/people/xiepanda  \n",
       "138285       http://www.zhihu.com/people/cai-tong  \n",
       "394719    http://www.zhihu.com/people/bo-cai-28-7  \n",
       "119421  http://www.zhihu.com/people/kaiserwang730  \n",
       "879559         http://www.zhihu.com/people/WxzxzW  "
      ]
     },
     "execution_count": 64,
     "metadata": {},
     "output_type": "execute_result"
    }
   ],
   "source": [
    "df.sort_index(by='aggree_count',ascending=False)[:10]"
   ]
  },
  {
   "cell_type": "code",
   "execution_count": 65,
   "metadata": {
    "collapsed": true
   },
   "outputs": [],
   "source": [
    "#下面为了更直观看出各位大神的数据量，我采用图标来表示"
   ]
  },
  {
   "cell_type": "code",
   "execution_count": 66,
   "metadata": {
    "collapsed": true
   },
   "outputs": [],
   "source": [
    "import matplotlib.pyplot as plt \n",
    "from matplotlib.font_manager import FontProperties \n",
    "font = FontProperties(fname=r\"c:\\windows\\fonts\\simsun.ttc\", size=10)  #size可不用指定"
   ]
  },
  {
   "cell_type": "code",
   "execution_count": 68,
   "metadata": {
    "collapsed": true
   },
   "outputs": [],
   "source": [
    "df_name = df.sort_index(by='aggree_count',ascending=False)[:10].set_index('name')"
   ]
  },
  {
   "cell_type": "code",
   "execution_count": 69,
   "metadata": {
    "collapsed": false
   },
   "outputs": [
    {
     "data": {
      "image/png": "[encoded data removed]",
      "text/plain": [
       "<matplotlib.figure.Figure at 0x13453eda0>"
      ]
     },
     "metadata": {},
     "output_type": "display_data"
    }
   ],
   "source": [
    "ax = df_name.plot(kind = 'bar') \n",
    "for label in ax.get_xticklabels() : \n",
    "    label.set_fontproperties(font) \n",
    "plt.show()"
   ]
  },
  {
   "cell_type": "code",
   "execution_count": 70,
   "metadata": {
    "collapsed": true
   },
   "outputs": [],
   "source": [
    "df_topic = df[df.most_good_topic!='']   #去掉那些没有擅长领域的用户"
   ]
  },
  {
   "cell_type": "code",
   "execution_count": 72,
   "metadata": {
    "collapsed": false
   },
   "outputs": [
    {
     "data": {
      "text/plain": [
       "32998"
      ]
     },
     "execution_count": 72,
     "metadata": {},
     "output_type": "execute_result"
    }
   ],
   "source": [
    "len(df_topic)  #看来知乎网的用户活跃度还是不高的，45w用户中，只有3w多一些有自己擅长的话题"
   ]
  },
  {
   "cell_type": "code",
   "execution_count": 73,
   "metadata": {
    "collapsed": false
   },
   "outputs": [
    {
     "data": {
      "text/plain": [
       "互联网       746\n",
       "电影        553\n",
       "生活        500\n",
       "历史        411\n",
       "文学        320\n",
       "心理学       311\n",
       "音乐        299\n",
       "游戏        298\n",
       "摄影        296\n",
       "调查类问题     243\n",
       "dtype: int64"
      ]
     },
     "execution_count": 73,
     "metadata": {},
     "output_type": "execute_result"
    }
   ],
   "source": [
    "df_topic.most_good_topic.value_counts()[:10]  #看来如果你发起一个话题，那么我建议你选择互联网方面的，那么它的流行度会大一些"
   ]
  },
  {
   "cell_type": "code",
   "execution_count": null,
   "metadata": {
    "collapsed": true
   },
   "outputs": [],
   "source": []
  },
  {
   "cell_type": "code",
   "execution_count": null,
   "metadata": {
    "collapsed": true
   },
   "outputs": [],
   "source": []
  },
  {
   "cell_type": "code",
   "execution_count": null,
   "metadata": {
    "collapsed": true
   },
   "outputs": [],
   "source": []
  },
  {
   "cell_type": "code",
   "execution_count": null,
   "metadata": {
    "collapsed": true
   },
   "outputs": [],
   "source": []
  },
  {
   "cell_type": "code",
   "execution_count": null,
   "metadata": {
    "collapsed": true
   },
   "outputs": [],
   "source": []
  },
  {
   "cell_type": "code",
   "execution_count": null,
   "metadata": {
    "collapsed": true
   },
   "outputs": [],
   "source": []
  },
  {
   "cell_type": "code",
   "execution_count": null,
   "metadata": {
    "collapsed": true
   },
   "outputs": [],
   "source": []
  },
  {
   "cell_type": "code",
   "execution_count": null,
   "metadata": {
    "collapsed": true
   },
   "outputs": [],
   "source": []
  },
  {
   "cell_type": "code",
   "execution_count": null,
   "metadata": {
    "collapsed": true
   },
   "outputs": [],
   "source": []
  },
  {
   "cell_type": "code",
   "execution_count": null,
   "metadata": {
    "collapsed": true
   },
   "outputs": [],
   "source": []
  },
  {
   "cell_type": "code",
   "execution_count": null,
   "metadata": {
    "collapsed": true
   },
   "outputs": [],
   "source": []
  },
  {
   "cell_type": "code",
   "execution_count": null,
   "metadata": {
    "collapsed": true
   },
   "outputs": [],
   "source": []
  },
  {
   "cell_type": "code",
   "execution_count": null,
   "metadata": {
    "collapsed": true
   },
   "outputs": [],
   "source": []
  },
  {
   "cell_type": "code",
   "execution_count": null,
   "metadata": {
    "collapsed": true
   },
   "outputs": [],
   "source": []
  },
  {
   "cell_type": "code",
   "execution_count": null,
   "metadata": {
    "collapsed": true
   },
   "outputs": [],
   "source": []
  },
  {
   "cell_type": "code",
   "execution_count": null,
   "metadata": {
    "collapsed": true
   },
   "outputs": [],
   "source": []
  },
  {
   "cell_type": "code",
   "execution_count": null,
   "metadata": {
    "collapsed": true
   },
   "outputs": [],
   "source": []
  },
  {
   "cell_type": "code",
   "execution_count": null,
   "metadata": {
    "collapsed": true
   },
   "outputs": [],
   "source": []
  },
  {
   "cell_type": "code",
   "execution_count": null,
   "metadata": {
    "collapsed": true
   },
   "outputs": [],
   "source": []
  },
  {
   "cell_type": "code",
   "execution_count": null,
   "metadata": {
    "collapsed": true
   },
   "outputs": [],
   "source": []
  },
  {
   "cell_type": "code",
   "execution_count": null,
   "metadata": {
    "collapsed": true
   },
   "outputs": [],
   "source": []
  },
  {
   "cell_type": "code",
   "execution_count": null,
   "metadata": {
    "collapsed": true
   },
   "outputs": [],
   "source": []
  },
  {
   "cell_type": "code",
   "execution_count": null,
   "metadata": {
    "collapsed": true
   },
   "outputs": [],
   "source": []
  },
  {
   "cell_type": "code",
   "execution_count": null,
   "metadata": {
    "collapsed": true
   },
   "outputs": [],
   "source": []
  },
  {
   "cell_type": "code",
   "execution_count": null,
   "metadata": {
    "collapsed": true
   },
   "outputs": [],
   "source": []
  },
  {
   "cell_type": "code",
   "execution_count": null,
   "metadata": {
    "collapsed": true
   },
   "outputs": [],
   "source": []
  },
  {
   "cell_type": "code",
   "execution_count": null,
   "metadata": {
    "collapsed": true
   },
   "outputs": [],
   "source": []
  },
  {
   "cell_type": "code",
   "execution_count": null,
   "metadata": {
    "collapsed": true
   },
   "outputs": [],
   "source": []
  },
  {
   "cell_type": "code",
   "execution_count": null,
   "metadata": {
    "collapsed": true
   },
   "outputs": [],
   "source": []
  },
  {
   "cell_type": "code",
   "execution_count": null,
   "metadata": {
    "collapsed": true
   },
   "outputs": [],
   "source": []
  },
  {
   "cell_type": "code",
   "execution_count": null,
   "metadata": {
    "collapsed": true
   },
   "outputs": [],
   "source": []
  },
  {
   "cell_type": "code",
   "execution_count": null,
   "metadata": {
    "collapsed": true
   },
   "outputs": [],
   "source": []
  },
  {
   "cell_type": "code",
   "execution_count": null,
   "metadata": {
    "collapsed": true
   },
   "outputs": [],
   "source": []
  },
  {
   "cell_type": "code",
   "execution_count": null,
   "metadata": {
    "collapsed": true
   },
   "outputs": [],
   "source": []
  }
 ],
 "metadata": {
  "kernelspec": {
   "display_name": "Python 2",
   "language": "python",
   "name": "python2"
  },
  "language_info": {
   "codemirror_mode": {
    "name": "ipython",
    "version": 2
   },
   "file_extension": ".py",
   "mimetype": "text/x-python",
   "name": "python",
   "nbconvert_exporter": "python",
   "pygments_lexer": "ipython2",
   "version": "2.7.10"
  }
 },
 "nbformat": 4,
 "nbformat_minor": 0
}
